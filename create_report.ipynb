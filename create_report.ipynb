{
 "cells": [
  {
   "cell_type": "markdown",
   "metadata": {},
   "source": [
    "# LAX, What do you want to know?\n",
    "\n",
    "\n",
    "This project is originally from my curiosity. While travelling to LAX, these questions came to my mind.\n",
    "\n",
    "- Where do the flights landed in LAX depart from? How many flights?\n",
    "- Predict delay?\n",
    "- What is the busiest time?\n",
    "\n",
    "I was trying to search them up, but, unfortunately, Google didn't satisfy my curioisty. (You can try!). Well, let answer them by myself then!!\n",
    "\n",
    "\n",
    "### What to expect?\n",
    "\n",
    "- Fun! Fulfil your curiosity\n",
    "\n",
    "### What not to expect?\n",
    "\n",
    "- Cutting-edge technology or novel approach, nah, not at all. Just simple tools that everyone knows.\n",
    "\n",
    "\n"
   ]
  },
  {
   "cell_type": "code",
   "execution_count": 1,
   "metadata": {},
   "outputs": [],
   "source": [
    "from scrape import daily, sort_flight_by_time\n",
    "import json\n",
    "import pandas as pd\n",
    "import requests"
   ]
  },
  {
   "cell_type": "markdown",
   "metadata": {},
   "source": [
    "## Where to get data?\n",
    "\n",
    "First of all, there are many websites that provide realtime fligts information in LAX. I decided to use [this]( https://www.airport-la.com/lax/arrivals). As you can see, its structure is very simple, mostly HTML. Easy to scrape, huh?\n",
    "\n",
    "Run this code daily\n",
    "\n",
    "Alternatively\n",
    "\n",
    "1. https://www.pythonanywhere.com/ (free)\n",
    "2. AWS Free Tier"
   ]
  },
  {
   "cell_type": "code",
   "execution_count": 2,
   "metadata": {},
   "outputs": [],
   "source": [
    "# daily()\n",
    "\n",
    "with open(\"database.json\", \"r\") as f:\n",
    "    db = json.load(f)\n"
   ]
  },
  {
   "cell_type": "markdown",
   "metadata": {},
   "source": [
    "Then what next? The table from [Airport-LA website](https://www.airport-la.com/lax/arrivals) has IATA code, which is .... Maybe we need something that make more sense for normal people, like where exacyly they are? Also [Airport-LA website](https://www.airport-la.com/lax/arrivals)  tells you the city where flights are from but not country. Do you know where on earth is Puerto Vallarta?? I don't know and I don't want wasting time search it up everytime. Let's make some tools to visualize!!\n",
    "\n",
    "\n",
    "1. IATA Airport Code from  https://datahub.io/core/airport-codes\n",
    "2. Country Code from https://datahub.io/core/country-list\n"
   ]
  },
  {
   "cell_type": "code",
   "execution_count": 3,
   "metadata": {},
   "outputs": [],
   "source": [
    "airport_locations_response = requests.get(\"https://datahub.io/core/airport-codes/r/airport-codes.json\")\n",
    "if airport_locations_response.status_code == 200:\n",
    "    airport_locations = {e[\"iata_code\"]: {\n",
    "        \"display_name\": e[\"name\"],\n",
    "        \"lat\": e[\"coordinates\"].split(\",\")[0],\n",
    "        \"lon\": e[\"coordinates\"].split(\",\")[1],\n",
    "        \"country\": e[\"iso_country\"]\n",
    "    } for e in airport_locations_response.json() if e[\"iata_code\"] is not None}\n",
    "else:\n",
    "    print(\"unable to download IATA Data\")\n",
    "\n",
    "country_code_response = requests.get(\"https://datahub.io/core/country-list/r/data.json\")\n",
    "if country_code_response.status_code == 200:\n",
    "    country_code = {e[\"Code\"]: e[\"Name\"] for e in country_code_response.json()}\n",
    "else:\n",
    "    print(\"unable to download Country Data\")\n"
   ]
  },
  {
   "cell_type": "code",
   "execution_count": 4,
   "metadata": {},
   "outputs": [],
   "source": [
    "df = sort_flight_by_time(db, airport_locations, country_code)"
   ]
  },
  {
   "cell_type": "markdown",
   "metadata": {},
   "source": [
    "Let's see what is our data looks like!"
   ]
  },
  {
   "cell_type": "code",
   "execution_count": 5,
   "metadata": {},
   "outputs": [
    {
     "data": {
      "text/html": [
       "<div>\n",
       "<style scoped>\n",
       "    .dataframe tbody tr th:only-of-type {\n",
       "        vertical-align: middle;\n",
       "    }\n",
       "\n",
       "    .dataframe tbody tr th {\n",
       "        vertical-align: top;\n",
       "    }\n",
       "\n",
       "    .dataframe thead th {\n",
       "        text-align: right;\n",
       "    }\n",
       "</style>\n",
       "<table border=\"1\" class=\"dataframe\">\n",
       "  <thead>\n",
       "    <tr style=\"text-align: right;\">\n",
       "      <th></th>\n",
       "      <th>dt_scheduled</th>\n",
       "      <th>dt_actual</th>\n",
       "      <th>flight</th>\n",
       "      <th>gate</th>\n",
       "      <th>airport</th>\n",
       "      <th>city</th>\n",
       "      <th>country</th>\n",
       "      <th>lat</th>\n",
       "      <th>long</th>\n",
       "      <th>display name</th>\n",
       "    </tr>\n",
       "  </thead>\n",
       "  <tbody>\n",
       "    <tr>\n",
       "      <th>619</th>\n",
       "      <td>2020-02-19 00:03:00</td>\n",
       "      <td>2020-02-19 23:53:00</td>\n",
       "      <td>AA772</td>\n",
       "      <td>5 53B</td>\n",
       "      <td>PHL</td>\n",
       "      <td>Philadelphia</td>\n",
       "      <td>United States</td>\n",
       "      <td>-75.24109649658203</td>\n",
       "      <td>39.87189865112305</td>\n",
       "      <td>Philadelphia International Airport</td>\n",
       "    </tr>\n",
       "    <tr>\n",
       "      <th>620</th>\n",
       "      <td>2020-02-19 00:09:00</td>\n",
       "      <td>2020-02-19 23:40:00</td>\n",
       "      <td>AA300</td>\n",
       "      <td>4 42B</td>\n",
       "      <td>JFK</td>\n",
       "      <td>New York</td>\n",
       "      <td>United States</td>\n",
       "      <td>-73.77890015</td>\n",
       "      <td>40.63980103</td>\n",
       "      <td>John F Kennedy International Airport</td>\n",
       "    </tr>\n",
       "    <tr>\n",
       "      <th>634</th>\n",
       "      <td>2020-02-19 00:20:00</td>\n",
       "      <td>2020-02-19 06:51:00</td>\n",
       "      <td>CZ473</td>\n",
       "      <td></td>\n",
       "      <td>ANC</td>\n",
       "      <td>Anchorage</td>\n",
       "      <td>United States</td>\n",
       "      <td>-149.99600219726562</td>\n",
       "      <td>61.174400329589844</td>\n",
       "      <td>Ted Stevens Anchorage International Airport</td>\n",
       "    </tr>\n",
       "    <tr>\n",
       "      <th>621</th>\n",
       "      <td>2020-02-19 00:25:00</td>\n",
       "      <td>2020-02-19 23:57:00</td>\n",
       "      <td>UA257</td>\n",
       "      <td>7 71A</td>\n",
       "      <td>SFO</td>\n",
       "      <td>San Francisco</td>\n",
       "      <td>United States</td>\n",
       "      <td>-122.375</td>\n",
       "      <td>37.61899948120117</td>\n",
       "      <td>San Francisco International Airport</td>\n",
       "    </tr>\n",
       "    <tr>\n",
       "      <th>622</th>\n",
       "      <td>2020-02-19 00:28:00</td>\n",
       "      <td>2020-02-19 00:23:00</td>\n",
       "      <td>AA1061</td>\n",
       "      <td>4 48A</td>\n",
       "      <td>MIA</td>\n",
       "      <td>Miami</td>\n",
       "      <td>United States</td>\n",
       "      <td>-80.29060363769531</td>\n",
       "      <td>25.79319953918457</td>\n",
       "      <td>Miami International Airport</td>\n",
       "    </tr>\n",
       "  </tbody>\n",
       "</table>\n",
       "</div>"
      ],
      "text/plain": [
       "           dt_scheduled           dt_actual  flight   gate airport  \\\n",
       "619 2020-02-19 00:03:00 2020-02-19 23:53:00   AA772  5 53B     PHL   \n",
       "620 2020-02-19 00:09:00 2020-02-19 23:40:00   AA300  4 42B     JFK   \n",
       "634 2020-02-19 00:20:00 2020-02-19 06:51:00   CZ473            ANC   \n",
       "621 2020-02-19 00:25:00 2020-02-19 23:57:00   UA257  7 71A     SFO   \n",
       "622 2020-02-19 00:28:00 2020-02-19 00:23:00  AA1061  4 48A     MIA   \n",
       "\n",
       "              city        country                  lat                 long  \\\n",
       "619   Philadelphia  United States   -75.24109649658203    39.87189865112305   \n",
       "620       New York  United States         -73.77890015          40.63980103   \n",
       "634      Anchorage  United States  -149.99600219726562   61.174400329589844   \n",
       "621  San Francisco  United States             -122.375    37.61899948120117   \n",
       "622          Miami  United States   -80.29060363769531    25.79319953918457   \n",
       "\n",
       "                                    display name  \n",
       "619           Philadelphia International Airport  \n",
       "620         John F Kennedy International Airport  \n",
       "634  Ted Stevens Anchorage International Airport  \n",
       "621          San Francisco International Airport  \n",
       "622                  Miami International Airport  "
      ]
     },
     "execution_count": 5,
     "metadata": {},
     "output_type": "execute_result"
    }
   ],
   "source": [
    "df.head()"
   ]
  },
  {
   "cell_type": "markdown",
   "metadata": {},
   "source": [
    "### What is the busiest time?"
   ]
  },
  {
   "cell_type": "code",
   "execution_count": 6,
   "metadata": {},
   "outputs": [
    {
     "data": {
      "text/plain": [
       "<matplotlib.axes._subplots.AxesSubplot at 0x7fc0284f1d30>"
      ]
     },
     "execution_count": 6,
     "metadata": {},
     "output_type": "execute_result"
    },
    {
     "data": {
      "image/png": "[encoded data removed]",
      "text/plain": [
       "<Figure size 432x288 with 1 Axes>"
      ]
     },
     "metadata": {
      "needs_background": "light"
     },
     "output_type": "display_data"
    }
   ],
   "source": [
    "df[[\"dt_actual\"]].groupby(df[\"dt_actual\"].dt.hour).count().plot(kind=\"bar\")"
   ]
  },
  {
   "cell_type": "markdown",
   "metadata": {},
   "source": [
    "### What City?"
   ]
  },
  {
   "cell_type": "code",
   "execution_count": 7,
   "metadata": {},
   "outputs": [
    {
     "data": {
      "text/html": [
       "<div>\n",
       "<style scoped>\n",
       "    .dataframe tbody tr th:only-of-type {\n",
       "        vertical-align: middle;\n",
       "    }\n",
       "\n",
       "    .dataframe tbody tr th {\n",
       "        vertical-align: top;\n",
       "    }\n",
       "\n",
       "    .dataframe thead th {\n",
       "        text-align: right;\n",
       "    }\n",
       "</style>\n",
       "<table border=\"1\" class=\"dataframe\">\n",
       "  <thead>\n",
       "    <tr style=\"text-align: right;\">\n",
       "      <th></th>\n",
       "      <th></th>\n",
       "      <th>flight</th>\n",
       "    </tr>\n",
       "    <tr>\n",
       "      <th>country</th>\n",
       "      <th>city</th>\n",
       "      <th></th>\n",
       "    </tr>\n",
       "  </thead>\n",
       "  <tbody>\n",
       "    <tr>\n",
       "      <th rowspan=\"20\" valign=\"top\">United States</th>\n",
       "      <th>San Francisco</th>\n",
       "      <td>71</td>\n",
       "    </tr>\n",
       "    <tr>\n",
       "      <th>Las Vegas</th>\n",
       "      <td>65</td>\n",
       "    </tr>\n",
       "    <tr>\n",
       "      <th>New York</th>\n",
       "      <td>62</td>\n",
       "    </tr>\n",
       "    <tr>\n",
       "      <th>Chicago</th>\n",
       "      <td>44</td>\n",
       "    </tr>\n",
       "    <tr>\n",
       "      <th>Seattle</th>\n",
       "      <td>40</td>\n",
       "    </tr>\n",
       "    <tr>\n",
       "      <th>Denver</th>\n",
       "      <td>38</td>\n",
       "    </tr>\n",
       "    <tr>\n",
       "      <th>Dallas</th>\n",
       "      <td>37</td>\n",
       "    </tr>\n",
       "    <tr>\n",
       "      <th>Phoenix</th>\n",
       "      <td>34</td>\n",
       "    </tr>\n",
       "    <tr>\n",
       "      <th>Houston</th>\n",
       "      <td>31</td>\n",
       "    </tr>\n",
       "    <tr>\n",
       "      <th>Atlanta</th>\n",
       "      <td>31</td>\n",
       "    </tr>\n",
       "    <tr>\n",
       "      <th>San Jose</th>\n",
       "      <td>30</td>\n",
       "    </tr>\n",
       "    <tr>\n",
       "      <th>Austin</th>\n",
       "      <td>25</td>\n",
       "    </tr>\n",
       "    <tr>\n",
       "      <th>Oakland</th>\n",
       "      <td>24</td>\n",
       "    </tr>\n",
       "    <tr>\n",
       "      <th>Salt Lake City</th>\n",
       "      <td>24</td>\n",
       "    </tr>\n",
       "    <tr>\n",
       "      <th>Portland</th>\n",
       "      <td>23</td>\n",
       "    </tr>\n",
       "    <tr>\n",
       "      <th>Boston</th>\n",
       "      <td>22</td>\n",
       "    </tr>\n",
       "    <tr>\n",
       "      <th>Newark</th>\n",
       "      <td>21</td>\n",
       "    </tr>\n",
       "    <tr>\n",
       "      <th>Honolulu</th>\n",
       "      <td>20</td>\n",
       "    </tr>\n",
       "    <tr>\n",
       "      <th>Washington</th>\n",
       "      <td>20</td>\n",
       "    </tr>\n",
       "    <tr>\n",
       "      <th>Sacramento</th>\n",
       "      <td>19</td>\n",
       "    </tr>\n",
       "  </tbody>\n",
       "</table>\n",
       "</div>"
      ],
      "text/plain": [
       "                              flight\n",
       "country       city                  \n",
       "United States San Francisco       71\n",
       "              Las Vegas           65\n",
       "              New York            62\n",
       "              Chicago             44\n",
       "              Seattle             40\n",
       "              Denver              38\n",
       "              Dallas              37\n",
       "              Phoenix             34\n",
       "              Houston             31\n",
       "              Atlanta             31\n",
       "              San Jose            30\n",
       "              Austin              25\n",
       "              Oakland             24\n",
       "              Salt Lake City      24\n",
       "              Portland            23\n",
       "              Boston              22\n",
       "              Newark              21\n",
       "              Honolulu            20\n",
       "              Washington          20\n",
       "              Sacramento          19"
      ]
     },
     "execution_count": 7,
     "metadata": {},
     "output_type": "execute_result"
    }
   ],
   "source": [
    "df[[\"flight\", \"city\", \"country\"]].groupby([\"country\", \"city\"]).count().sort_values([\"flight\"], ascending=False).head(20)"
   ]
  },
  {
   "cell_type": "code",
   "execution_count": 8,
   "metadata": {},
   "outputs": [
    {
     "data": {
      "text/html": [
       "<div>\n",
       "<style scoped>\n",
       "    .dataframe tbody tr th:only-of-type {\n",
       "        vertical-align: middle;\n",
       "    }\n",
       "\n",
       "    .dataframe tbody tr th {\n",
       "        vertical-align: top;\n",
       "    }\n",
       "\n",
       "    .dataframe thead th {\n",
       "        text-align: right;\n",
       "    }\n",
       "</style>\n",
       "<table border=\"1\" class=\"dataframe\">\n",
       "  <thead>\n",
       "    <tr style=\"text-align: right;\">\n",
       "      <th></th>\n",
       "      <th>flight</th>\n",
       "    </tr>\n",
       "    <tr>\n",
       "      <th>country</th>\n",
       "      <th></th>\n",
       "    </tr>\n",
       "  </thead>\n",
       "  <tbody>\n",
       "    <tr>\n",
       "      <th>United States</th>\n",
       "      <td>996</td>\n",
       "    </tr>\n",
       "    <tr>\n",
       "      <th>Mexico</th>\n",
       "      <td>43</td>\n",
       "    </tr>\n",
       "    <tr>\n",
       "      <th>Canada</th>\n",
       "      <td>38</td>\n",
       "    </tr>\n",
       "    <tr>\n",
       "      <th>Japan</th>\n",
       "      <td>15</td>\n",
       "    </tr>\n",
       "    <tr>\n",
       "      <th>United Kingdom</th>\n",
       "      <td>15</td>\n",
       "    </tr>\n",
       "  </tbody>\n",
       "</table>\n",
       "</div>"
      ],
      "text/plain": [
       "                flight\n",
       "country               \n",
       "United States      996\n",
       "Mexico              43\n",
       "Canada              38\n",
       "Japan               15\n",
       "United Kingdom      15"
      ]
     },
     "execution_count": 8,
     "metadata": {},
     "output_type": "execute_result"
    }
   ],
   "source": [
    "df[[\"flight\",  \"country\"]].groupby([\"country\"]).count().sort_values([\"flight\"], ascending=False).head()"
   ]
  },
  {
   "cell_type": "code",
   "execution_count": null,
   "metadata": {},
   "outputs": [],
   "source": []
  }
 ],
 "metadata": {
  "kernelspec": {
   "display_name": "Python 3",
   "language": "python",
   "name": "python3"
  },
  "language_info": {
   "codemirror_mode": {
    "name": "ipython",
    "version": 3
   },
   "file_extension": ".py",
   "mimetype": "text/x-python",
   "name": "python",
   "nbconvert_exporter": "python",
   "pygments_lexer": "ipython3",
   "version": "3.6.8"
  }
 },
 "nbformat": 4,
 "nbformat_minor": 4
}
